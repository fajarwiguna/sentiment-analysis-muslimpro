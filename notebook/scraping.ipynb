{
 "cells": [
  {
   "cell_type": "code",
   "execution_count": 1,
   "id": "3c957232",
   "metadata": {},
   "outputs": [],
   "source": [
    "# Import Library\n",
    "from google_play_scraper import Sort, reviews\n",
    "import pandas as pd"
   ]
  },
  {
   "cell_type": "code",
   "execution_count": 2,
   "id": "aed41645",
   "metadata": {},
   "outputs": [],
   "source": [
    "# ID aplikasi Muslim Pro di Google Play Store\n",
    "app_id = 'com.bitsmedia.android.muslimpro'\n",
    "\n",
    "# Menyimpan semua review\n",
    "all_reviews = []"
   ]
  },
  {
   "cell_type": "code",
   "execution_count": 3,
   "id": "9df6a18c",
   "metadata": {},
   "outputs": [],
   "source": [
    "# Loop untuk mengambil data per 1000 review (maksimal per request)\n",
    "for offset in range(0, 10000, 1000):\n",
    "    rvs, _ = reviews(\n",
    "        app_id,\n",
    "        lang='id',            # Bahasa Indonesia\n",
    "        country='id',         # Negara Indonesia\n",
    "        sort=Sort.NEWEST,     # Urutkan berdasarkan yang terbaru\n",
    "        count=1000,           # Ambil 1000 review per batch\n",
    "        filter_score_with=None  # Ambil semua skor (1-5)\n",
    "    )\n",
    "    all_reviews.extend(rvs)"
   ]
  },
  {
   "cell_type": "code",
   "execution_count": 4,
   "id": "6a479a60",
   "metadata": {},
   "outputs": [],
   "source": [
    "# Simpan ke DataFrame\n",
    "df = pd.DataFrame(all_reviews)\n",
    "\n",
    "# Ambil kolom penting dan ubah nama kolom\n",
    "df = df[['content', 'score']]\n",
    "df.columns = ['review', 'rating']\n",
    "\n",
    "# Hapus review kosong\n",
    "df.dropna(inplace=True)"
   ]
  },
  {
   "cell_type": "code",
   "execution_count": 5,
   "id": "876ff1c9",
   "metadata": {},
   "outputs": [],
   "source": [
    "# Simpan ke CSV\n",
    "df.to_csv('data_muslimpro_reviews.csv', index=False, encoding='utf-8-sig')"
   ]
  },
  {
   "cell_type": "code",
   "execution_count": 6,
   "id": "0707134b",
   "metadata": {},
   "outputs": [
    {
     "name": "stdout",
     "output_type": "stream",
     "text": [
      "Jumlah data: 10000\n",
      "                                              review  rating\n",
      "0                                       sangat bagus       5\n",
      "1                                                bes       5\n",
      "2                                        terimakasih       5\n",
      "3                                        terimakasih       5\n",
      "4  iklan gak bisa keluar, stak di shopee terus ik...       1\n",
      "<class 'pandas.core.frame.DataFrame'>\n",
      "RangeIndex: 10000 entries, 0 to 9999\n",
      "Data columns (total 2 columns):\n",
      " #   Column  Non-Null Count  Dtype \n",
      "---  ------  --------------  ----- \n",
      " 0   review  10000 non-null  object\n",
      " 1   rating  10000 non-null  int64 \n",
      "dtypes: int64(1), object(1)\n",
      "memory usage: 156.4+ KB\n"
     ]
    }
   ],
   "source": [
    "# Tampilkan info\n",
    "print(f\"Jumlah data: {len(df)}\")\n",
    "print(df.head())\n",
    "df.info()"
   ]
  }
 ],
 "metadata": {
  "kernelspec": {
   "display_name": ".venv",
   "language": "python",
   "name": "python3"
  },
  "language_info": {
   "codemirror_mode": {
    "name": "ipython",
    "version": 3
   },
   "file_extension": ".py",
   "mimetype": "text/x-python",
   "name": "python",
   "nbconvert_exporter": "python",
   "pygments_lexer": "ipython3",
   "version": "3.10.6"
  }
 },
 "nbformat": 4,
 "nbformat_minor": 5
}
